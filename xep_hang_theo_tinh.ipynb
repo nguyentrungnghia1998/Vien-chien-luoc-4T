{
 "cells": [
  {
   "cell_type": "code",
   "execution_count": 1,
   "metadata": {},
   "outputs": [],
   "source": [
    "import numpy as np\n",
    "import pandas as pd\n",
    "import matplotlib.pyplot as plt\n",
    "import seaborn as sns\n",
    "from sklearn.preprocessing import LabelEncoder\n",
    "from sklearn.preprocessing import StandardScaler, MinMaxScaler\n",
    "import string\n",
    "from tqdm import tqdm"
   ]
  },
  {
   "cell_type": "code",
   "execution_count": 2,
   "metadata": {},
   "outputs": [],
   "source": [
    "def thongke(sentence,tu_khoa,tu_di_kem,tu_cam):\n",
    "    sentence = str(sentence).translate(str.maketrans('', '', string.punctuation)).lower()\n",
    "    K = np.zeros(len(tu_khoa))\n",
    "    cam = False\n",
    "    ok = False\n",
    "    for word in tu_cam:\n",
    "        if word in sentence:\n",
    "            cam = True\n",
    "            break\n",
    "    if cam:\n",
    "        return K\n",
    "    for word in tu_di_kem:\n",
    "        if word in sentence:\n",
    "            ok = True\n",
    "            break\n",
    "    if not ok:\n",
    "        return K\n",
    "    for i in range(len(tu_khoa)):\n",
    "        if tu_khoa[i] in sentence:\n",
    "            K[i] = 1\n",
    "    return K\n"
   ]
  },
  {
   "cell_type": "code",
   "execution_count": 3,
   "metadata": {},
   "outputs": [],
   "source": [
    "def thongkecactinh(tinh, all_tinh, tu_khoa, tu_di_kem, tu_cam):\n",
    "    PATH = f\"Bo_4T/tinh/{all_tinh.loc[tinh,'file_name']}.csv\"\n",
    "    df_tinh = pd.read_csv(PATH)\n",
    "    content = df_tinh.iloc[:,5]\n",
    "    thongketinh = []\n",
    "    for i in range(len(content)):\n",
    "        K = thongke(content[i],tu_khoa,tu_di_kem,tu_cam)\n",
    "        thongketinh.append(K)\n",
    "    result = np.sum(np.stack(thongketinh,axis = 0),axis = 0)\n",
    "    return result\n",
    "    "
   ]
  },
  {
   "cell_type": "code",
   "execution_count": 4,
   "metadata": {},
   "outputs": [],
   "source": [
    "def thongkecanuoc(tinh:pd.DataFrame, tu_khoa, tu_di_kem, tu_cam):\n",
    "    cac_tinh = tinh.index\n",
    "    full_Vietnam = []\n",
    "    for i in tqdm(range(len(cac_tinh))):\n",
    "        result = thongkecactinh(cac_tinh[i], tinh, tu_khoa, tu_di_kem, tu_cam)\n",
    "        full_Vietnam.append(result)\n",
    "    ketqua = np.stack(full_Vietnam,axis = 0)\n",
    "    return ketqua"
   ]
  },
  {
   "cell_type": "code",
   "execution_count": 5,
   "metadata": {},
   "outputs": [],
   "source": [
    "all_tinh = pd.read_csv('Bo_4T/tinh.csv',index_col='tinh')"
   ]
  },
  {
   "cell_type": "code",
   "execution_count": 8,
   "metadata": {},
   "outputs": [
    {
     "name": "stderr",
     "output_type": "stream",
     "text": [
      "100%|██████████| 61/61 [08:19<00:00,  8.18s/it]\n",
      "100%|██████████| 61/61 [07:17<00:00,  7.18s/it]\n",
      "100%|██████████| 61/61 [07:14<00:00,  7.12s/it]\n",
      "100%|██████████| 61/61 [08:18<00:00,  8.17s/it]\n"
     ]
    }
   ],
   "source": [
    "for i in range(2,6):\n",
    "    a_words = pd.read_csv(f'Bo_4T/add_word/n{i}.csv')\n",
    "    tu_di_kem = a_words.keyword.values\n",
    "    b_words = pd.read_csv(f'Bo_4T/stop_word/n{i}.csv')\n",
    "    tu_cam = b_words.keyword.values\n",
    "    keywords = pd.read_csv('Bo_4T/keyword.csv')\n",
    "    tu_khoa = keywords.keyword.values\n",
    "    tu_di_kem = list(map(lambda x:x.lower(),tu_di_kem))\n",
    "    tu_cam = list(map(lambda x:x.lower(),tu_cam))\n",
    "    tu_khoa = list(map(lambda x:x.lower(),tu_khoa))\n",
    "    ketqua = thongkecanuoc(all_tinh, tu_khoa, tu_di_kem, tu_cam)\n",
    "    df_ketqua = pd.DataFrame(data = ketqua, \n",
    "                  index = all_tinh.index, \n",
    "                  columns = tu_khoa).astype(int)\n",
    "    df_ketqua.to_csv(f'Bo_4T/result/ketqua{i}.csv')"
   ]
  },
  {
   "cell_type": "code",
   "execution_count": null,
   "metadata": {},
   "outputs": [],
   "source": []
  }
 ],
 "metadata": {
  "kernelspec": {
   "display_name": "Python 3.7.6 ('base')",
   "language": "python",
   "name": "python3"
  },
  "language_info": {
   "codemirror_mode": {
    "name": "ipython",
    "version": 3
   },
   "file_extension": ".py",
   "mimetype": "text/x-python",
   "name": "python",
   "nbconvert_exporter": "python",
   "pygments_lexer": "ipython3",
   "version": "3.7.6"
  },
  "orig_nbformat": 4,
  "vscode": {
   "interpreter": {
    "hash": "99aa5aab342e5d43ef94cfb81bdd4936f1fcb5d605904c7a58af2f252555db64"
   }
  }
 },
 "nbformat": 4,
 "nbformat_minor": 2
}
