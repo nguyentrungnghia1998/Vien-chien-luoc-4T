{
 "cells": [
  {
   "cell_type": "code",
   "execution_count": 4,
   "metadata": {},
   "outputs": [],
   "source": [
    "import pandas as pd\n",
    "import numpy as np\n",
    "import matplotlib.pyplot as plt\n",
    "from tqdm import tqdm"
   ]
  },
  {
   "cell_type": "code",
   "execution_count": 40,
   "metadata": {},
   "outputs": [],
   "source": [
    "all_tinh = pd.read_csv('Bo_4T/tinh.csv',index_col = 'tinh')"
   ]
  },
  {
   "cell_type": "code",
   "execution_count": 41,
   "metadata": {},
   "outputs": [],
   "source": [
    "def number_of_user(tinh,all_tinh):\n",
    "    PATH = f\"Bo_4T/tinh/{all_tinh.loc[tinh,'file_name']}.csv\"\n",
    "    df_tinh = pd.read_csv(PATH)\n",
    "    df_tinh['id'] = df_tinh.iloc[:,11].apply(lambda x:x.split('/')[-1])\n",
    "    data_of_user = []\n",
    "    users = df_tinh['id'].unique()\n",
    "    return len(users)"
   ]
  },
  {
   "cell_type": "code",
   "execution_count": 42,
   "metadata": {},
   "outputs": [
    {
     "name": "stderr",
     "output_type": "stream",
     "text": [
      "/home/nghiaptit/anaconda3/lib/python3.7/site-packages/IPython/core/interactiveshell.py:3473: DtypeWarning: Columns (0,7,8,9,13,14,15) have mixed types.Specify dtype option on import or set low_memory=False.\n",
      "  if (await self.run_code(code, result,  async_=asy)):\n"
     ]
    }
   ],
   "source": [
    "number_tinh = []\n",
    "for i in range(len(all_tinh)):\n",
    "    tinh = all_tinh.index[i]\n",
    "    so_user = number_of_user(tinh,all_tinh)\n",
    "    number_tinh.append(so_user)"
   ]
  },
  {
   "cell_type": "code",
   "execution_count": 43,
   "metadata": {},
   "outputs": [],
   "source": [
    "ketqua = []\n",
    "for i in range(1,6):\n",
    "    df = pd.read_csv(f'Bo_4T/result/ketqua{i}.csv',index_col='tinh')\n",
    "    ketqua.append(df.values)\n",
    "ketqua = np.array(ketqua)"
   ]
  },
  {
   "cell_type": "code",
   "execution_count": 44,
   "metadata": {},
   "outputs": [
    {
     "data": {
      "text/plain": [
       "(5, 61, 1142)"
      ]
     },
     "execution_count": 44,
     "metadata": {},
     "output_type": "execute_result"
    }
   ],
   "source": [
    "ketqua.shape"
   ]
  },
  {
   "cell_type": "code",
   "execution_count": 89,
   "metadata": {},
   "outputs": [],
   "source": [
    "luotdecap = ketqua.sum(axis = 2)"
   ]
  },
  {
   "cell_type": "code",
   "execution_count": 90,
   "metadata": {},
   "outputs": [],
   "source": [
    "results = (luotdecap/number_tinh).T"
   ]
  },
  {
   "cell_type": "code",
   "execution_count": 79,
   "metadata": {},
   "outputs": [],
   "source": []
  },
  {
   "cell_type": "code",
   "execution_count": 102,
   "metadata": {},
   "outputs": [],
   "source": [
    "diem = np.linalg.norm(results,axis = 1)\n",
    "diem_original = diem.copy()\n",
    "max_diem = np.max(diem)\n",
    "diem = diem/max_diem*100\n",
    "diem = np.round(diem,0).astype(int)\n"
   ]
  },
  {
   "cell_type": "code",
   "execution_count": 103,
   "metadata": {},
   "outputs": [],
   "source": [
    "df_result = pd.DataFrame(results, columns=['N1','N2','N3','N4','N5'])"
   ]
  },
  {
   "cell_type": "code",
   "execution_count": 104,
   "metadata": {},
   "outputs": [],
   "source": [
    "df_result['tinh'] = all_tinh.index"
   ]
  },
  {
   "cell_type": "code",
   "execution_count": 105,
   "metadata": {},
   "outputs": [],
   "source": [
    "df_result.set_index('tinh',inplace = True)"
   ]
  },
  {
   "cell_type": "code",
   "execution_count": 106,
   "metadata": {},
   "outputs": [],
   "source": [
    "df_result['diem_norm_2'] = diem_original\n",
    "df_result['diem_100'] = diem"
   ]
  },
  {
   "cell_type": "code",
   "execution_count": 107,
   "metadata": {},
   "outputs": [
    {
     "data": {
      "text/html": [
       "<div>\n",
       "<style scoped>\n",
       "    .dataframe tbody tr th:only-of-type {\n",
       "        vertical-align: middle;\n",
       "    }\n",
       "\n",
       "    .dataframe tbody tr th {\n",
       "        vertical-align: top;\n",
       "    }\n",
       "\n",
       "    .dataframe thead th {\n",
       "        text-align: right;\n",
       "    }\n",
       "</style>\n",
       "<table border=\"1\" class=\"dataframe\">\n",
       "  <thead>\n",
       "    <tr style=\"text-align: right;\">\n",
       "      <th></th>\n",
       "      <th>N1</th>\n",
       "      <th>N2</th>\n",
       "      <th>N3</th>\n",
       "      <th>N4</th>\n",
       "      <th>N5</th>\n",
       "      <th>diem_norm_2</th>\n",
       "      <th>diem_100</th>\n",
       "    </tr>\n",
       "    <tr>\n",
       "      <th>tinh</th>\n",
       "      <th></th>\n",
       "      <th></th>\n",
       "      <th></th>\n",
       "      <th></th>\n",
       "      <th></th>\n",
       "      <th></th>\n",
       "      <th></th>\n",
       "    </tr>\n",
       "  </thead>\n",
       "  <tbody>\n",
       "    <tr>\n",
       "      <th>AnGiang</th>\n",
       "      <td>6.064601</td>\n",
       "      <td>6.239399</td>\n",
       "      <td>5.986881</td>\n",
       "      <td>5.750390</td>\n",
       "      <td>6.364842</td>\n",
       "      <td>13.606264</td>\n",
       "      <td>78</td>\n",
       "    </tr>\n",
       "    <tr>\n",
       "      <th>BacGiang</th>\n",
       "      <td>6.051245</td>\n",
       "      <td>6.182147</td>\n",
       "      <td>5.904702</td>\n",
       "      <td>5.895952</td>\n",
       "      <td>6.264772</td>\n",
       "      <td>13.554026</td>\n",
       "      <td>78</td>\n",
       "    </tr>\n",
       "    <tr>\n",
       "      <th>BacKan</th>\n",
       "      <td>4.963473</td>\n",
       "      <td>5.118998</td>\n",
       "      <td>4.892488</td>\n",
       "      <td>4.770503</td>\n",
       "      <td>5.232024</td>\n",
       "      <td>11.176244</td>\n",
       "      <td>64</td>\n",
       "    </tr>\n",
       "    <tr>\n",
       "      <th>BacLieu</th>\n",
       "      <td>6.488329</td>\n",
       "      <td>6.718673</td>\n",
       "      <td>6.436579</td>\n",
       "      <td>6.244318</td>\n",
       "      <td>6.874693</td>\n",
       "      <td>14.660199</td>\n",
       "      <td>84</td>\n",
       "    </tr>\n",
       "    <tr>\n",
       "      <th>BacNinh</th>\n",
       "      <td>5.627779</td>\n",
       "      <td>5.749735</td>\n",
       "      <td>5.541252</td>\n",
       "      <td>5.497918</td>\n",
       "      <td>5.818548</td>\n",
       "      <td>12.630100</td>\n",
       "      <td>72</td>\n",
       "    </tr>\n",
       "    <tr>\n",
       "      <th>...</th>\n",
       "      <td>...</td>\n",
       "      <td>...</td>\n",
       "      <td>...</td>\n",
       "      <td>...</td>\n",
       "      <td>...</td>\n",
       "      <td>...</td>\n",
       "      <td>...</td>\n",
       "    </tr>\n",
       "    <tr>\n",
       "      <th>TraVinh</th>\n",
       "      <td>3.863603</td>\n",
       "      <td>4.024435</td>\n",
       "      <td>3.803428</td>\n",
       "      <td>3.688549</td>\n",
       "      <td>4.077316</td>\n",
       "      <td>8.707437</td>\n",
       "      <td>50</td>\n",
       "    </tr>\n",
       "    <tr>\n",
       "      <th>TuyenQuang</th>\n",
       "      <td>3.325499</td>\n",
       "      <td>3.419698</td>\n",
       "      <td>3.207797</td>\n",
       "      <td>3.211155</td>\n",
       "      <td>3.493378</td>\n",
       "      <td>7.453754</td>\n",
       "      <td>43</td>\n",
       "    </tr>\n",
       "    <tr>\n",
       "      <th>VinhLong</th>\n",
       "      <td>3.032944</td>\n",
       "      <td>3.162905</td>\n",
       "      <td>2.992477</td>\n",
       "      <td>2.819196</td>\n",
       "      <td>3.230869</td>\n",
       "      <td>6.822318</td>\n",
       "      <td>39</td>\n",
       "    </tr>\n",
       "    <tr>\n",
       "      <th>VinhPhuc</th>\n",
       "      <td>5.754957</td>\n",
       "      <td>5.920893</td>\n",
       "      <td>5.720518</td>\n",
       "      <td>5.646629</td>\n",
       "      <td>5.983511</td>\n",
       "      <td>12.984131</td>\n",
       "      <td>75</td>\n",
       "    </tr>\n",
       "    <tr>\n",
       "      <th>YenBai</th>\n",
       "      <td>4.537738</td>\n",
       "      <td>4.657394</td>\n",
       "      <td>4.480466</td>\n",
       "      <td>4.413377</td>\n",
       "      <td>4.729597</td>\n",
       "      <td>10.208033</td>\n",
       "      <td>59</td>\n",
       "    </tr>\n",
       "  </tbody>\n",
       "</table>\n",
       "<p>61 rows × 7 columns</p>\n",
       "</div>"
      ],
      "text/plain": [
       "                  N1        N2        N3        N4        N5  diem_norm_2  \\\n",
       "tinh                                                                        \n",
       "AnGiang     6.064601  6.239399  5.986881  5.750390  6.364842    13.606264   \n",
       "BacGiang    6.051245  6.182147  5.904702  5.895952  6.264772    13.554026   \n",
       "BacKan      4.963473  5.118998  4.892488  4.770503  5.232024    11.176244   \n",
       "BacLieu     6.488329  6.718673  6.436579  6.244318  6.874693    14.660199   \n",
       "BacNinh     5.627779  5.749735  5.541252  5.497918  5.818548    12.630100   \n",
       "...              ...       ...       ...       ...       ...          ...   \n",
       "TraVinh     3.863603  4.024435  3.803428  3.688549  4.077316     8.707437   \n",
       "TuyenQuang  3.325499  3.419698  3.207797  3.211155  3.493378     7.453754   \n",
       "VinhLong    3.032944  3.162905  2.992477  2.819196  3.230869     6.822318   \n",
       "VinhPhuc    5.754957  5.920893  5.720518  5.646629  5.983511    12.984131   \n",
       "YenBai      4.537738  4.657394  4.480466  4.413377  4.729597    10.208033   \n",
       "\n",
       "            diem_100  \n",
       "tinh                  \n",
       "AnGiang           78  \n",
       "BacGiang          78  \n",
       "BacKan            64  \n",
       "BacLieu           84  \n",
       "BacNinh           72  \n",
       "...              ...  \n",
       "TraVinh           50  \n",
       "TuyenQuang        43  \n",
       "VinhLong          39  \n",
       "VinhPhuc          75  \n",
       "YenBai            59  \n",
       "\n",
       "[61 rows x 7 columns]"
      ]
     },
     "execution_count": 107,
     "metadata": {},
     "output_type": "execute_result"
    }
   ],
   "source": [
    "df_result"
   ]
  },
  {
   "cell_type": "code",
   "execution_count": null,
   "metadata": {},
   "outputs": [],
   "source": []
  },
  {
   "cell_type": "code",
   "execution_count": null,
   "metadata": {},
   "outputs": [],
   "source": []
  }
 ],
 "metadata": {
  "kernelspec": {
   "display_name": "Python 3.7.6 ('base')",
   "language": "python",
   "name": "python3"
  },
  "language_info": {
   "codemirror_mode": {
    "name": "ipython",
    "version": 3
   },
   "file_extension": ".py",
   "mimetype": "text/x-python",
   "name": "python",
   "nbconvert_exporter": "python",
   "pygments_lexer": "ipython3",
   "version": "3.7.6"
  },
  "orig_nbformat": 4,
  "vscode": {
   "interpreter": {
    "hash": "99aa5aab342e5d43ef94cfb81bdd4936f1fcb5d605904c7a58af2f252555db64"
   }
  }
 },
 "nbformat": 4,
 "nbformat_minor": 2
}
